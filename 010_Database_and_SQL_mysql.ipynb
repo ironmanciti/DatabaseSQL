{
 "cells": [
  {
   "cell_type": "markdown",
   "metadata": {},
   "source": [
    "# Database 와 SQL(Structured Query Language, 구조화 질의어) 사용하기\n",
    "\n",
    "- ``emailbox-short.txt`` FILE 을 이용하여 sqlite db 생성  \n",
    "\n",
    "\n",
    "- basic ``CRUD`` (Create, Retrieve, Update, Delete) operation 을 Python 과 SQL 을 이용하여 수행"
   ]
  },
  {
   "cell_type": "markdown",
   "metadata": {},
   "source": [
    "## 기본 SQL 문법\n",
    "\n",
    "### 테이블 생성 (CREATE)\n",
    "\n",
    "- CREATE TABLE 테이블명 (필드명 자료형, ...)\n",
    "\n",
    "### 데이터조회하기 (SELECT)\n",
    "\n",
    "- SELECT * FROM 테이블명\n",
    "- SELECT 열명1, 열명2 FROM 테이블명\n",
    "\n",
    "### 테이블 구조 참조하기 (DESC)\n",
    "\n",
    "- DESC 테이블명\n",
    "\n",
    "### 검색 조건 지정하기 (WHERE)\n",
    "\n",
    "- SELECT 열1, 열2 FROM 테이블명 WHERE 조건식\n",
    "\n",
    "### 레코드 추가(INSERT)\n",
    "\n",
    "- INSERT INTO 테이블명(필드명, ...)  VALUES (값, ...)\n",
    "\n",
    "### 레코드 삭제(DELETE)\n",
    "\n",
    "- DELETE FROM 테이블명 WHERE 조건\n",
    "\n",
    "### 데이터 변경(UPDATE)\n",
    "\n",
    "- UPDATE 테이블명 SET (필드명=값, ...) WHERE 조건"
   ]
  },
  {
   "cell_type": "markdown",
   "metadata": {},
   "source": [
    "## db 연결 및 cursor 생성\n",
    "\n",
    "### connection methods\n",
    "\n",
    "- connect( ) 를 이용하여 SQLite database 와의 connection object 생성\n",
    "\n",
    "\n",
    "- cursor( ) - 이 connection 을 이용한 cursor object 를 반환. cursor 는 수행할 SQL 문의 단위가 된다.\n",
    "\n",
    "\n",
    "- commit( ) - database 에 transaction 반영 \n",
    "\n",
    "\n",
    "- rollback( ) - transaction 의 starting point 로 되돌아감 \n",
    "\n",
    "\n",
    "- close( ) - database 와의 연결을 종료\n",
    "\n",
    "### cursor methods\n",
    "\n",
    "- execute( ) - string 으로 sql 문장 수행 \n",
    "\n",
    "\n",
    "- executemany( ) - tuple 의 list 로 여러개 sql 일괄 수행\n",
    "\n",
    "\n",
    "- fetchone( ) - query result set 에서 다음 row 를 fetch  \n",
    "\n",
    "\n",
    "- fetchall( ) - query result set 의 나머지 row 를 모두 fetch  "
   ]
  },
  {
   "cell_type": "code",
   "execution_count": 1,
   "metadata": {},
   "outputs": [],
   "source": [
    "#pip install pymysql"
   ]
  },
  {
   "cell_type": "code",
   "execution_count": 1,
   "metadata": {},
   "outputs": [],
   "source": [
    "#----vanila mysql connect --------------------------------\n",
    "import pymysql.cursors\n",
    "\n",
    "con = pymysql.connect(host='localhost', user='yjoh', password='dreamer01', db='test', charset='utf8mb4')\n",
    "cur = con.cursor()"
   ]
  },
  {
   "cell_type": "markdown",
   "metadata": {},
   "source": [
    "### Table 생성\n",
    "\n",
    "| column | type | \n",
    "|:---:|:---:|\n",
    "| email | TEXT | \n",
    "| count  | INTEGER |  "
   ]
  },
  {
   "cell_type": "code",
   "execution_count": 3,
   "metadata": {},
   "outputs": [
    {
     "name": "stdout",
     "output_type": "stream",
     "text": [
      "table created successfully\n"
     ]
    }
   ],
   "source": [
    "try:        \n",
    "    cur.execute(\"DROP TABLE IF EXISTS Counts\")\n",
    "    cur.execute(\"CREATE TABLE Counts (email TEXT, count INTEGER)\")\n",
    "    print ('table created successfully')\n",
    "except Exception as e:\n",
    "    print ('error in operation, ', e)\n",
    "    con.rollback()\n",
    "    con.close()"
   ]
  },
  {
   "cell_type": "code",
   "execution_count": 4,
   "metadata": {},
   "outputs": [
    {
     "data": {
      "text/plain": [
       "(('email', 'text', 'YES', '', None, ''), ('count', 'int', 'YES', '', None, ''))"
      ]
     },
     "execution_count": 4,
     "metadata": {},
     "output_type": "execute_result"
    }
   ],
   "source": [
    "sql = \"DESC Counts\"\n",
    "cur.execute(sql)\n",
    "cur.fetchall()"
   ]
  },
  {
   "cell_type": "markdown",
   "metadata": {},
   "source": [
    "- `From: ` 으로 시작하는 record 에서 email id 를 추출하여 db 에 건수 누적 \n",
    "\n",
    "- SQL 문에서 `?` 는 placeholder 를 의미. 여러개가 올 수 있으므로 tuple 로 mapping 시킨다"
   ]
  },
  {
   "cell_type": "code",
   "execution_count": 5,
   "metadata": {},
   "outputs": [],
   "source": [
    "fname = 'emailbox-short.txt'\n",
    "fh = open(fname)\n",
    "\n",
    "for line in fh:\n",
    "    if not line.startswith('From: '):\n",
    "        continue\n",
    "    pieces = line.split()\n",
    "    email = pieces[1]\n",
    "    cur.execute('SELECT count FROM Counts WHERE email = %s', (email,))\n",
    "    row = cur.fetchone()\n",
    "    if row is None:\n",
    "        cur.execute('INSERT INTO Counts (email, count) VALUES (%s, 1)', \n",
    "                        (email,))\n",
    "    else:\n",
    "        cur.execute('UPDATE Counts SET count = count + 1 WHERE email = %s', \n",
    "                        (email,))\n",
    "        \n",
    "    con.commit()"
   ]
  },
  {
   "cell_type": "markdown",
   "metadata": {},
   "source": [
    "### 입력된 data 확인"
   ]
  },
  {
   "cell_type": "code",
   "execution_count": 6,
   "metadata": {},
   "outputs": [
    {
     "data": {
      "text/plain": [
       "10"
      ]
     },
     "execution_count": 6,
     "metadata": {},
     "output_type": "execute_result"
    }
   ],
   "source": [
    "sql = 'SELECT email, count FROM Counts ORDER BY count DESC LIMIT 10'\n",
    "cur.execute(sql)"
   ]
  },
  {
   "cell_type": "code",
   "execution_count": 7,
   "metadata": {},
   "outputs": [
    {
     "name": "stdout",
     "output_type": "stream",
     "text": [
      "cwen@iupui.edu 5\n",
      "zqian@umich.edu 4\n",
      "david.horwitz@uct.ac.za 4\n",
      "louis@media.berkeley.edu 3\n",
      "gsilver@umich.edu 3\n",
      "stephen.marquard@uct.ac.za 2\n",
      "rjlowe@iupui.edu 2\n",
      "wagnermr@iupui.edu 1\n",
      "antranig@caret.cam.ac.uk 1\n",
      "gopal.ramasammycook@gmail.com 1\n"
     ]
    }
   ],
   "source": [
    "for row in cur.fetchall():\n",
    "    print(row[0], row[1])"
   ]
  },
  {
   "cell_type": "code",
   "execution_count": 8,
   "metadata": {},
   "outputs": [
    {
     "data": {
      "text/plain": [
       "(('stephen.marquard@uct.ac.za', 2),\n",
       " ('louis@media.berkeley.edu', 3),\n",
       " ('zqian@umich.edu', 4),\n",
       " ('rjlowe@iupui.edu', 2),\n",
       " ('cwen@iupui.edu', 5),\n",
       " ('gsilver@umich.edu', 3),\n",
       " ('wagnermr@iupui.edu', 1),\n",
       " ('antranig@caret.cam.ac.uk', 1),\n",
       " ('gopal.ramasammycook@gmail.com', 1),\n",
       " ('david.horwitz@uct.ac.za', 4),\n",
       " ('ray@media.berkeley.edu', 1))"
      ]
     },
     "execution_count": 8,
     "metadata": {},
     "output_type": "execute_result"
    }
   ],
   "source": [
    "cur.execute('SELECT email, count FROM Counts')\n",
    "cur.fetchall()"
   ]
  },
  {
   "cell_type": "code",
   "execution_count": 9,
   "metadata": {},
   "outputs": [
    {
     "data": {
      "text/plain": [
       "('stephen.marquard@uct.ac.za', 2)"
      ]
     },
     "execution_count": 9,
     "metadata": {},
     "output_type": "execute_result"
    }
   ],
   "source": [
    "cur.execute('SELECT email, count FROM Counts')\n",
    "cur.fetchone()"
   ]
  },
  {
   "cell_type": "code",
   "execution_count": 10,
   "metadata": {},
   "outputs": [
    {
     "data": {
      "text/plain": [
       "('louis@media.berkeley.edu', 3)"
      ]
     },
     "execution_count": 10,
     "metadata": {},
     "output_type": "execute_result"
    }
   ],
   "source": [
    "cur.fetchone()"
   ]
  },
  {
   "cell_type": "code",
   "execution_count": 11,
   "metadata": {},
   "outputs": [
    {
     "data": {
      "text/plain": [
       "('zqian@umich.edu', 4)"
      ]
     },
     "execution_count": 11,
     "metadata": {},
     "output_type": "execute_result"
    }
   ],
   "source": [
    "cur.fetchone()"
   ]
  },
  {
   "cell_type": "code",
   "execution_count": 12,
   "metadata": {},
   "outputs": [
    {
     "data": {
      "text/plain": [
       "(('rjlowe@iupui.edu', 2),\n",
       " ('cwen@iupui.edu', 5),\n",
       " ('gsilver@umich.edu', 3),\n",
       " ('wagnermr@iupui.edu', 1),\n",
       " ('antranig@caret.cam.ac.uk', 1),\n",
       " ('gopal.ramasammycook@gmail.com', 1),\n",
       " ('david.horwitz@uct.ac.za', 4),\n",
       " ('ray@media.berkeley.edu', 1))"
      ]
     },
     "execution_count": 12,
     "metadata": {},
     "output_type": "execute_result"
    }
   ],
   "source": [
    "cur.fetchall()"
   ]
  },
  {
   "cell_type": "code",
   "execution_count": 13,
   "metadata": {},
   "outputs": [],
   "source": [
    "sql = 'INSERT INTO Counts (email, count) VALUES (%s, %s);'"
   ]
  },
  {
   "cell_type": "code",
   "execution_count": 14,
   "metadata": {},
   "outputs": [
    {
     "data": {
      "text/plain": [
       "3"
      ]
     },
     "execution_count": 14,
     "metadata": {},
     "output_type": "execute_result"
    }
   ],
   "source": [
    "emails=[('test1@test.com', 100), \n",
    "             ('test2@test.com', 200), \n",
    "             ('test3@test.com', 300)]\n",
    "\n",
    "cur.executemany(sql, emails)"
   ]
  },
  {
   "cell_type": "code",
   "execution_count": 15,
   "metadata": {},
   "outputs": [
    {
     "data": {
      "text/plain": [
       "(('stephen.marquard@uct.ac.za', 2),\n",
       " ('louis@media.berkeley.edu', 3),\n",
       " ('zqian@umich.edu', 4),\n",
       " ('rjlowe@iupui.edu', 2),\n",
       " ('cwen@iupui.edu', 5),\n",
       " ('gsilver@umich.edu', 3),\n",
       " ('wagnermr@iupui.edu', 1),\n",
       " ('antranig@caret.cam.ac.uk', 1),\n",
       " ('gopal.ramasammycook@gmail.com', 1),\n",
       " ('david.horwitz@uct.ac.za', 4),\n",
       " ('ray@media.berkeley.edu', 1),\n",
       " ('test1@test.com', 100),\n",
       " ('test2@test.com', 200),\n",
       " ('test3@test.com', 300))"
      ]
     },
     "execution_count": 15,
     "metadata": {},
     "output_type": "execute_result"
    }
   ],
   "source": [
    "cur.execute('SELECT email, count FROM Counts')\n",
    "cur.fetchall()"
   ]
  },
  {
   "cell_type": "code",
   "execution_count": 16,
   "metadata": {},
   "outputs": [
    {
     "name": "stdout",
     "output_type": "stream",
     "text": [
      "table created successfully\n"
     ]
    }
   ],
   "source": [
    "sql = \"\"\"\n",
    "CREATE TABLE people\n",
    "  (\n",
    "    first_name VARCHAR(20),\n",
    "    last_name VARCHAR(20),\n",
    "    age INT\n",
    "  )\n",
    "\"\"\"\n",
    "\n",
    "try:        \n",
    "    cur.execute(\"DROP TABLE IF EXISTS people\")\n",
    "    cur.execute(sql)\n",
    "    print ('table created successfully')\n",
    "except Exception as e:\n",
    "    print ('error in operation, ', e)\n",
    "    con.rollback()\n",
    "    con.close()"
   ]
  },
  {
   "cell_type": "code",
   "execution_count": 17,
   "metadata": {},
   "outputs": [
    {
     "data": {
      "text/plain": [
       "1"
      ]
     },
     "execution_count": 17,
     "metadata": {},
     "output_type": "execute_result"
    }
   ],
   "source": [
    "sql = \"\"\"\n",
    "INSERT INTO people(first_name, last_name, age)\n",
    "VALUES ('Tina', 'Belcher', 13);\n",
    "\"\"\"\n",
    "cur.execute(sql)"
   ]
  },
  {
   "cell_type": "code",
   "execution_count": 18,
   "metadata": {},
   "outputs": [
    {
     "data": {
      "text/plain": [
       "(('Tina', 'Belcher', 13),)"
      ]
     },
     "execution_count": 18,
     "metadata": {},
     "output_type": "execute_result"
    }
   ],
   "source": [
    "sql = \"SELECT * FROM people\"\n",
    "cur.execute(sql)\n",
    "cur.fetchall()"
   ]
  },
  {
   "cell_type": "code",
   "execution_count": 19,
   "metadata": {},
   "outputs": [
    {
     "data": {
      "text/plain": [
       "1"
      ]
     },
     "execution_count": 19,
     "metadata": {},
     "output_type": "execute_result"
    }
   ],
   "source": [
    "sql = \"\"\"\n",
    "INSERT INTO people(age, last_name, first_name)\n",
    "VALUES (42, 'Belcher', 'Bob');\n",
    "\"\"\"\n",
    "cur.execute(sql)"
   ]
  },
  {
   "cell_type": "code",
   "execution_count": 20,
   "metadata": {},
   "outputs": [
    {
     "data": {
      "text/plain": [
       "3"
      ]
     },
     "execution_count": 20,
     "metadata": {},
     "output_type": "execute_result"
    }
   ],
   "source": [
    "sql = \"\"\"\n",
    "INSERT INTO people(first_name, last_name, age)\n",
    "VALUES('Linda', 'Belcher', 45)\n",
    "              ,('Phillip', 'Frond', 38)\n",
    "              ,('Calvin', 'Fischoeder', 70);\n",
    "\"\"\"\n",
    "cur.execute(sql)"
   ]
  },
  {
   "cell_type": "code",
   "execution_count": 21,
   "metadata": {},
   "outputs": [
    {
     "data": {
      "text/plain": [
       "(('Tina', 'Belcher', 13),\n",
       " ('Bob', 'Belcher', 42),\n",
       " ('Linda', 'Belcher', 45),\n",
       " ('Phillip', 'Frond', 38),\n",
       " ('Calvin', 'Fischoeder', 70))"
      ]
     },
     "execution_count": 21,
     "metadata": {},
     "output_type": "execute_result"
    }
   ],
   "source": [
    "sql = \"SELECT * FROM people\"\n",
    "cur.execute(sql)\n",
    "cur.fetchall()"
   ]
  },
  {
   "cell_type": "markdown",
   "metadata": {},
   "source": [
    "## CRUD (Create, Read, Update, Delete)"
   ]
  },
  {
   "cell_type": "code",
   "execution_count": 22,
   "metadata": {},
   "outputs": [
    {
     "name": "stdout",
     "output_type": "stream",
     "text": [
      "table created successfully\n"
     ]
    }
   ],
   "source": [
    "sql = \"\"\"\n",
    "CREATE TABLE cats \n",
    "  ( \n",
    "     cat_id INT NOT NULL AUTO_INCREMENT, \n",
    "     name   VARCHAR(100), \n",
    "     breed  VARCHAR(100), \n",
    "     age    INT, \n",
    "     PRIMARY KEY (cat_id) \n",
    "  );\n",
    "\"\"\"\n",
    "try:        \n",
    "    cur.execute(\"DROP TABLE IF EXISTS cats\")\n",
    "    cur.execute(sql)\n",
    "    print ('table created successfully')\n",
    "except Exception as e:\n",
    "    print ('error in operation, ', e)\n",
    "    con.rollback()\n",
    "    con.close()"
   ]
  },
  {
   "cell_type": "code",
   "execution_count": 23,
   "metadata": {},
   "outputs": [
    {
     "data": {
      "text/plain": [
       "7"
      ]
     },
     "execution_count": 23,
     "metadata": {},
     "output_type": "execute_result"
    }
   ],
   "source": [
    "sql = \"SHOW TABLES\"\n",
    "cur.execute(sql)"
   ]
  },
  {
   "cell_type": "code",
   "execution_count": 24,
   "metadata": {},
   "outputs": [
    {
     "data": {
      "text/plain": [
       "(('cats',),\n",
       " ('cats4',),\n",
       " ('counts',),\n",
       " ('employees',),\n",
       " ('people',),\n",
       " ('unique_cats',),\n",
       " ('unique_cats2',))"
      ]
     },
     "execution_count": 24,
     "metadata": {},
     "output_type": "execute_result"
    }
   ],
   "source": [
    "cur.fetchall()"
   ]
  },
  {
   "cell_type": "markdown",
   "metadata": {},
   "source": [
    "### CREATE"
   ]
  },
  {
   "cell_type": "code",
   "execution_count": 25,
   "metadata": {},
   "outputs": [
    {
     "data": {
      "text/plain": [
       "7"
      ]
     },
     "execution_count": 25,
     "metadata": {},
     "output_type": "execute_result"
    }
   ],
   "source": [
    "sql = \"\"\"\n",
    "INSERT INTO cats(name, breed, age) \n",
    "VALUES ('Ringo', 'Tabby', 4),\n",
    "       ('Cindy', 'Maine Coon', 10),\n",
    "       ('Dumbledore', 'Maine Coon', 11),\n",
    "       ('Egg', 'Persian', 4),\n",
    "       ('Misty', 'Tabby', 13),\n",
    "       ('George Michael', 'Ragdoll', 9),\n",
    "       ('Jackson', 'Sphynx', 7);\n",
    "\"\"\"\n",
    "cur.execute(sql)"
   ]
  },
  {
   "cell_type": "markdown",
   "metadata": {},
   "source": [
    "### READ"
   ]
  },
  {
   "cell_type": "code",
   "execution_count": 26,
   "metadata": {},
   "outputs": [
    {
     "data": {
      "text/plain": [
       "((1, 'Ringo', 'Tabby', 4),\n",
       " (2, 'Cindy', 'Maine Coon', 10),\n",
       " (3, 'Dumbledore', 'Maine Coon', 11),\n",
       " (4, 'Egg', 'Persian', 4),\n",
       " (5, 'Misty', 'Tabby', 13),\n",
       " (6, 'George Michael', 'Ragdoll', 9),\n",
       " (7, 'Jackson', 'Sphynx', 7))"
      ]
     },
     "execution_count": 26,
     "metadata": {},
     "output_type": "execute_result"
    }
   ],
   "source": [
    "sql = \"SELECT * FROM cats\"\n",
    "\n",
    "cur.execute(sql)\n",
    "cur.fetchall()"
   ]
  },
  {
   "cell_type": "code",
   "execution_count": 27,
   "metadata": {},
   "outputs": [
    {
     "data": {
      "text/plain": [
       "(('Ringo', 4),\n",
       " ('Cindy', 10),\n",
       " ('Dumbledore', 11),\n",
       " ('Egg', 4),\n",
       " ('Misty', 13),\n",
       " ('George Michael', 9),\n",
       " ('Jackson', 7))"
      ]
     },
     "execution_count": 27,
     "metadata": {},
     "output_type": "execute_result"
    }
   ],
   "source": [
    "sql = \"SELECT name, age FROM cats\"\n",
    "cur.execute(sql)\n",
    "cur.fetchall()"
   ]
  },
  {
   "cell_type": "markdown",
   "metadata": {},
   "source": [
    "## where 조건"
   ]
  },
  {
   "cell_type": "code",
   "execution_count": 28,
   "metadata": {},
   "outputs": [
    {
     "data": {
      "text/plain": [
       "((1, 'Ringo', 'Tabby', 4), (4, 'Egg', 'Persian', 4))"
      ]
     },
     "execution_count": 28,
     "metadata": {},
     "output_type": "execute_result"
    }
   ],
   "source": [
    "sql = \"SELECT * FROM cats WHERE age=4\"\n",
    "cur.execute(sql)\n",
    "cur.fetchall()"
   ]
  },
  {
   "cell_type": "code",
   "execution_count": 29,
   "metadata": {},
   "outputs": [
    {
     "data": {
      "text/plain": [
       "((4, 'Egg', 'Persian', 4),)"
      ]
     },
     "execution_count": 29,
     "metadata": {},
     "output_type": "execute_result"
    }
   ],
   "source": [
    "sql = \"SELECT * FROM cats WHERE name='Egg'\"\n",
    "cur.execute(sql)\n",
    "cur.fetchall()"
   ]
  },
  {
   "cell_type": "markdown",
   "metadata": {},
   "source": [
    "cat_id 와 age 가 같은 조건의 검색"
   ]
  },
  {
   "cell_type": "code",
   "execution_count": 30,
   "metadata": {},
   "outputs": [
    {
     "data": {
      "text/plain": [
       "((4, 'Egg', 'Persian', 4), (7, 'Jackson', 'Sphynx', 7))"
      ]
     },
     "execution_count": 30,
     "metadata": {},
     "output_type": "execute_result"
    }
   ],
   "source": [
    "sql = \"SELECT * FROM cats WHERE cat_id=age\"\n",
    "cur.execute(sql)\n",
    "cur.fetchall()"
   ]
  },
  {
   "cell_type": "markdown",
   "metadata": {},
   "source": [
    "## Alias"
   ]
  },
  {
   "cell_type": "code",
   "execution_count": 31,
   "metadata": {},
   "outputs": [
    {
     "data": {
      "text/plain": [
       "((1, 'Ringo'),\n",
       " (2, 'Cindy'),\n",
       " (3, 'Dumbledore'),\n",
       " (4, 'Egg'),\n",
       " (5, 'Misty'),\n",
       " (6, 'George Michael'),\n",
       " (7, 'Jackson'))"
      ]
     },
     "execution_count": 31,
     "metadata": {},
     "output_type": "execute_result"
    }
   ],
   "source": [
    "sql = \"SELECT cat_id AS id, name FROM cats\"\n",
    "cur.execute(sql)\n",
    "cur.fetchall()"
   ]
  },
  {
   "cell_type": "code",
   "execution_count": 32,
   "metadata": {},
   "outputs": [],
   "source": [
    "con.commit()"
   ]
  },
  {
   "cell_type": "markdown",
   "metadata": {},
   "source": [
    "## Update"
   ]
  },
  {
   "cell_type": "code",
   "execution_count": 33,
   "metadata": {},
   "outputs": [
    {
     "data": {
      "text/plain": [
       "((1, 'Ringo', 'Tabby', 4),\n",
       " (2, 'Cindy', 'Maine Coon', 10),\n",
       " (3, 'Dumbledore', 'Maine Coon', 11),\n",
       " (4, 'Egg', 'Persian', 4),\n",
       " (5, 'Misty', 'Tabby', 13),\n",
       " (6, 'George Michael', 'Ragdoll', 9),\n",
       " (7, 'Jackson', 'Sphynx', 7))"
      ]
     },
     "execution_count": 33,
     "metadata": {},
     "output_type": "execute_result"
    }
   ],
   "source": [
    "sql = \"SELECT * FROM cats\"\n",
    "cur.execute(sql)\n",
    "cur.fetchall()"
   ]
  },
  {
   "cell_type": "code",
   "execution_count": 34,
   "metadata": {},
   "outputs": [
    {
     "data": {
      "text/plain": [
       "2"
      ]
     },
     "execution_count": 34,
     "metadata": {},
     "output_type": "execute_result"
    }
   ],
   "source": [
    "sql = \"UPDATE cats SET breed='Shorthair' WHERE breed='Tabby'\"\n",
    "cur.execute(sql)"
   ]
  },
  {
   "cell_type": "code",
   "execution_count": 35,
   "metadata": {},
   "outputs": [
    {
     "data": {
      "text/plain": [
       "((1, 'Ringo', 'Shorthair', 4),\n",
       " (2, 'Cindy', 'Maine Coon', 10),\n",
       " (3, 'Dumbledore', 'Maine Coon', 11),\n",
       " (4, 'Egg', 'Persian', 4),\n",
       " (5, 'Misty', 'Shorthair', 13),\n",
       " (6, 'George Michael', 'Ragdoll', 9),\n",
       " (7, 'Jackson', 'Sphynx', 7))"
      ]
     },
     "execution_count": 35,
     "metadata": {},
     "output_type": "execute_result"
    }
   ],
   "source": [
    "sql = \"SELECT * FROM cats\"\n",
    "cur.execute(sql)\n",
    "cur.fetchall()"
   ]
  },
  {
   "cell_type": "code",
   "execution_count": 36,
   "metadata": {},
   "outputs": [],
   "source": [
    "con.commit()"
   ]
  },
  {
   "cell_type": "markdown",
   "metadata": {},
   "source": [
    "## CRUD 연습\n",
    "\n",
    "### 옷장 속의 shirts 재고 관리"
   ]
  },
  {
   "cell_type": "markdown",
   "metadata": {},
   "source": [
    "### shirts TABLE 생성\n",
    "\n",
    "- shirt_id : 셔츠 ID  --> PRIMARY KEY\n",
    "- article : 셔츠 종류  \n",
    "- color : 셔츠 색깔  \n",
    "- shirt_size : 셔츠 사이즈  \n",
    "- last_worn : 마지막 입은 날부터 경과 일수"
   ]
  },
  {
   "cell_type": "code",
   "execution_count": 37,
   "metadata": {},
   "outputs": [
    {
     "name": "stdout",
     "output_type": "stream",
     "text": [
      "table created successfully\n"
     ]
    }
   ],
   "source": [
    "sql = \"\"\"\n",
    "CREATE TABLE shirts\n",
    "  (\n",
    "    shirt_id INT NOT NULL AUTO_INCREMENT,  \n",
    "    article VARCHAR(100),\n",
    "    color VARCHAR(100),\n",
    "    shirt_size VARCHAR(100),\n",
    "    last_worn INT,\n",
    "    PRIMARY KEY(shirt_id)\n",
    "  );\n",
    "\"\"\"\n",
    "\n",
    "try:        \n",
    "    cur = con.cursor()\n",
    "    cur.execute(\" DROP TABLE IF EXISTS shirts\")\n",
    "    cur.execute(sql)\n",
    "    print ('table created successfully')\n",
    "except Exception as e:\n",
    "    print ('error in operation, ', e)"
   ]
  },
  {
   "cell_type": "markdown",
   "metadata": {},
   "source": [
    "- executemany 로 여러개의 record를 batch로 입력"
   ]
  },
  {
   "cell_type": "code",
   "execution_count": 41,
   "metadata": {},
   "outputs": [
    {
     "data": {
      "text/plain": [
       "8"
      ]
     },
     "execution_count": 41,
     "metadata": {},
     "output_type": "execute_result"
    }
   ],
   "source": [
    "sql = \"INSERT INTO shirts (article, color, shirt_size, last_worn) VALUES(%s, %s, %s, %s)\"\n",
    "shirts_records = [\n",
    "('t-shirt', 'white', 'S', 10),\n",
    "('t-shirt', 'green', 'S', 200),\n",
    "('polo shirt', 'black', 'M', 10),\n",
    "('tank top', 'blue', 'S', 50),\n",
    "('t-shirt', 'pink', 'S', 0),\n",
    "('polo shirt', 'red', 'M', 5),\n",
    "('tank top', 'white', 'S', 200),\n",
    "('tank top', 'blue', 'M', 15)\n",
    "]\n",
    "\n",
    "cur.executemany(sql, shirts_records)"
   ]
  },
  {
   "cell_type": "markdown",
   "metadata": {},
   "source": [
    "- 입력된 record 확인"
   ]
  },
  {
   "cell_type": "code",
   "execution_count": 42,
   "metadata": {},
   "outputs": [
    {
     "data": {
      "text/plain": [
       "((1, 't-shirt', 'white', 'S', 10),\n",
       " (2, 't-shirt', 'green', 'S', 200),\n",
       " (3, 'polo shirt', 'black', 'M', 10),\n",
       " (4, 'tank top', 'blue', 'S', 50),\n",
       " (5, 't-shirt', 'pink', 'S', 0),\n",
       " (6, 'polo shirt', 'red', 'M', 5),\n",
       " (7, 'tank top', 'white', 'S', 200),\n",
       " (8, 'tank top', 'blue', 'M', 15))"
      ]
     },
     "execution_count": 42,
     "metadata": {},
     "output_type": "execute_result"
    }
   ],
   "source": [
    "sql = \"SELECT * FROM shirts\"\n",
    "cur.execute(sql)\n",
    "cur.fetchall()"
   ]
  },
  {
   "cell_type": "markdown",
   "metadata": {},
   "source": [
    "- 새로운 record 추가"
   ]
  },
  {
   "cell_type": "code",
   "execution_count": 44,
   "metadata": {},
   "outputs": [
    {
     "data": {
      "text/plain": [
       "1"
      ]
     },
     "execution_count": 44,
     "metadata": {},
     "output_type": "execute_result"
    }
   ],
   "source": [
    "sql = \"\"\"\n",
    "INSERT INTO shirts (color, article, shirt_size, last_worn) \n",
    "        VALUES('purple', 'polo shirt', 'medium', 50)\n",
    "\"\"\"\n",
    "cur.execute(sql)"
   ]
  },
  {
   "cell_type": "code",
   "execution_count": 45,
   "metadata": {},
   "outputs": [
    {
     "data": {
      "text/plain": [
       "((1, 't-shirt', 'white', 'S', 10),\n",
       " (2, 't-shirt', 'green', 'S', 200),\n",
       " (3, 'polo shirt', 'black', 'M', 10),\n",
       " (4, 'tank top', 'blue', 'S', 50),\n",
       " (5, 't-shirt', 'pink', 'S', 0),\n",
       " (6, 'polo shirt', 'red', 'M', 5),\n",
       " (7, 'tank top', 'white', 'S', 200),\n",
       " (8, 'tank top', 'blue', 'M', 15),\n",
       " (9, 'polo shirt', 'purple', 'medium', 50))"
      ]
     },
     "execution_count": 45,
     "metadata": {},
     "output_type": "execute_result"
    }
   ],
   "source": [
    "sql = \"SELECT * FROM shirts\"\n",
    "cur.execute(sql)\n",
    "cur.fetchall()"
   ]
  },
  {
   "cell_type": "markdown",
   "metadata": {},
   "source": [
    "- medium size 의 shirts 만 검색"
   ]
  },
  {
   "cell_type": "code",
   "execution_count": 47,
   "metadata": {},
   "outputs": [
    {
     "data": {
      "text/plain": [
       "(('polo shirt', 'black', 'M', 10),\n",
       " ('polo shirt', 'red', 'M', 5),\n",
       " ('tank top', 'blue', 'M', 15))"
      ]
     },
     "execution_count": 47,
     "metadata": {},
     "output_type": "execute_result"
    }
   ],
   "source": [
    "sql = \"SELECT article, color, shirt_size, last_worn FROM shirts WHERE shirt_size='M'\"\n",
    "cur.execute(sql)\n",
    "cur.fetchall()"
   ]
  },
  {
   "cell_type": "markdown",
   "metadata": {},
   "source": [
    "- polo shirts의 size를 L로 변경"
   ]
  },
  {
   "cell_type": "code",
   "execution_count": 48,
   "metadata": {},
   "outputs": [
    {
     "data": {
      "text/plain": [
       "3"
      ]
     },
     "execution_count": 48,
     "metadata": {},
     "output_type": "execute_result"
    }
   ],
   "source": [
    "sql = \"UPDATE shirts SET shirt_size='L' WHERE article='polo shirt'\"\n",
    "cur.execute(sql)"
   ]
  },
  {
   "cell_type": "code",
   "execution_count": 49,
   "metadata": {},
   "outputs": [
    {
     "data": {
      "text/plain": [
       "(('polo shirt', 'black', 'L', 10),\n",
       " ('polo shirt', 'red', 'L', 5),\n",
       " ('polo shirt', 'purple', 'L', 50))"
      ]
     },
     "execution_count": 49,
     "metadata": {},
     "output_type": "execute_result"
    }
   ],
   "source": [
    "sql = \"SELECT article, color, shirt_size, last_worn FROM shirts WHERE article='polo shirt'\"\n",
    "cur.execute(sql)\n",
    "cur.fetchall()"
   ]
  },
  {
   "cell_type": "markdown",
   "metadata": {},
   "source": [
    "흰색 shirts 의 color를 'off white' 로, shirts_size를 XS로 변경"
   ]
  },
  {
   "cell_type": "code",
   "execution_count": 50,
   "metadata": {},
   "outputs": [
    {
     "data": {
      "text/plain": [
       "2"
      ]
     },
     "execution_count": 50,
     "metadata": {},
     "output_type": "execute_result"
    }
   ],
   "source": [
    "sql = \"UPDATE shirts SET color='off white', shirt_size='XS' WHERE color='white'\"\n",
    "cur.execute(sql)"
   ]
  },
  {
   "cell_type": "code",
   "execution_count": 53,
   "metadata": {},
   "outputs": [
    {
     "data": {
      "text/plain": [
       "(('t-shirt', 'off white', 'XS', 10), ('tank top', 'off white', 'XS', 200))"
      ]
     },
     "execution_count": 53,
     "metadata": {},
     "output_type": "execute_result"
    }
   ],
   "source": [
    "sql = \"SELECT article, color, shirt_size, last_worn FROM shirts WHERE color='off white'\"\n",
    "cur.execute(sql)\n",
    "cur.fetchall()"
   ]
  },
  {
   "cell_type": "markdown",
   "metadata": {},
   "source": [
    "'tank top' shirts를 삭제"
   ]
  },
  {
   "cell_type": "code",
   "execution_count": 54,
   "metadata": {},
   "outputs": [
    {
     "data": {
      "text/plain": [
       "3"
      ]
     },
     "execution_count": 54,
     "metadata": {},
     "output_type": "execute_result"
    }
   ],
   "source": [
    "sql = \"DELETE FROM shirts WHERE article='tank top'\"\n",
    "cur.execute(sql)"
   ]
  },
  {
   "cell_type": "code",
   "execution_count": 55,
   "metadata": {},
   "outputs": [
    {
     "data": {
      "text/plain": [
       "((1, 't-shirt', 'off white', 'XS', 10),\n",
       " (2, 't-shirt', 'green', 'S', 200),\n",
       " (3, 'polo shirt', 'black', 'L', 10),\n",
       " (5, 't-shirt', 'pink', 'S', 0),\n",
       " (6, 'polo shirt', 'red', 'L', 5),\n",
       " (9, 'polo shirt', 'purple', 'L', 50))"
      ]
     },
     "execution_count": 55,
     "metadata": {},
     "output_type": "execute_result"
    }
   ],
   "source": [
    "sql = \"SELECT * FROM shirts\"\n",
    "cur.execute(sql)\n",
    "cur.fetchall()"
   ]
  },
  {
   "cell_type": "markdown",
   "metadata": {},
   "source": [
    "- TABLE의 전체 shirts 삭제"
   ]
  },
  {
   "cell_type": "code",
   "execution_count": 57,
   "metadata": {},
   "outputs": [
    {
     "data": {
      "text/plain": [
       "()"
      ]
     },
     "execution_count": 57,
     "metadata": {},
     "output_type": "execute_result"
    }
   ],
   "source": [
    "sql = \"DELETE FROM shirts\"\n",
    "cur.execute(sql)\n",
    "\n",
    "sql = \"SELECT * FROM shirts\"\n",
    "cur.execute(sql)\n",
    "cur.fetchall()"
   ]
  },
  {
   "cell_type": "markdown",
   "metadata": {},
   "source": [
    "- TABLE 삭제"
   ]
  },
  {
   "cell_type": "code",
   "execution_count": 59,
   "metadata": {},
   "outputs": [
    {
     "data": {
      "text/plain": [
       "(('cats',),\n",
       " ('cats4',),\n",
       " ('counts',),\n",
       " ('employees',),\n",
       " ('people',),\n",
       " ('shirts',),\n",
       " ('unique_cats',),\n",
       " ('unique_cats2',))"
      ]
     },
     "execution_count": 59,
     "metadata": {},
     "output_type": "execute_result"
    }
   ],
   "source": [
    "sql = \"SHOW TABLES\"\n",
    "cur.execute(sql)\n",
    "cur.fetchall()"
   ]
  },
  {
   "cell_type": "code",
   "execution_count": 60,
   "metadata": {},
   "outputs": [
    {
     "data": {
      "text/plain": [
       "(('cats',),\n",
       " ('cats4',),\n",
       " ('counts',),\n",
       " ('employees',),\n",
       " ('people',),\n",
       " ('unique_cats',),\n",
       " ('unique_cats2',))"
      ]
     },
     "execution_count": 60,
     "metadata": {},
     "output_type": "execute_result"
    }
   ],
   "source": [
    "sql = \"DROP TABLE shirts\"\n",
    "cur.execute(sql)\n",
    "\n",
    "sql = \"SHOW TABLES\"\n",
    "cur.execute(sql)\n",
    "cur.fetchall()"
   ]
  },
  {
   "cell_type": "code",
   "execution_count": 61,
   "metadata": {},
   "outputs": [],
   "source": [
    "con.commit()\n",
    "con.close()"
   ]
  },
  {
   "cell_type": "markdown",
   "metadata": {},
   "source": [
    "## 연습문제\n",
    "\n",
    "- 다음 table 을 database 로 생성  \n",
    "\n",
    "- executemany( ) 를 이용하여 A1~A3 까지의 data 를 일괄 insert\n",
    "\n",
    "- 전체를 조회  \n",
    "\n",
    "- A4 를 추가로 insert  \n",
    "\n",
    "- A3 의 나이를 59 로 변경  \n",
    "\n",
    "- A1 을 삭제  \n",
    "\n",
    "- 전체를 조회\n",
    "\n",
    "\n",
    "|학생번호| 성명 |나이 |성적|\n",
    "|:------:|:-----:|---|----|\n",
    "|A1|홍길동|20|70|\n",
    "|A2|유병길|16|80|\n",
    "|A3|김길수|29|90|\n",
    "|A4|박재만|25|86|"
   ]
  },
  {
   "cell_type": "code",
   "execution_count": null,
   "metadata": {},
   "outputs": [],
   "source": []
  }
 ],
 "metadata": {
  "kernelspec": {
   "display_name": "Python 3 (ipykernel)",
   "language": "python",
   "name": "python3"
  },
  "language_info": {
   "codemirror_mode": {
    "name": "ipython",
    "version": 3
   },
   "file_extension": ".py",
   "mimetype": "text/x-python",
   "name": "python",
   "nbconvert_exporter": "python",
   "pygments_lexer": "ipython3",
   "version": "3.9.12"
  }
 },
 "nbformat": 4,
 "nbformat_minor": 4
}
